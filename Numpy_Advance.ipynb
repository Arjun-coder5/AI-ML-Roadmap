{
  "nbformat": 4,
  "nbformat_minor": 0,
  "metadata": {
    "colab": {
      "provenance": [],
      "authorship_tag": "ABX9TyPvEfk6eXX4V6oHixTWhM8/",
      "include_colab_link": true
    },
    "kernelspec": {
      "name": "python3",
      "display_name": "Python 3"
    },
    "language_info": {
      "name": "python"
    }
  },
  "cells": [
    {
      "cell_type": "markdown",
      "metadata": {
        "id": "view-in-github",
        "colab_type": "text"
      },
      "source": [
        "<a href=\"https://colab.research.google.com/github/Arjun-coder5/AI-ML-Roadmap/blob/main/Numpy_Advance.ipynb\" target=\"_parent\"><img src=\"https://colab.research.google.com/assets/colab-badge.svg\" alt=\"Open In Colab\"/></a>"
      ]
    },
    {
      "cell_type": "markdown",
      "source": [
        "# ***Numpy array vs Python lists :***"
      ],
      "metadata": {
        "id": "okLwTlfvvi-O"
      }
    },
    {
      "cell_type": "code",
      "execution_count": null,
      "metadata": {
        "colab": {
          "base_uri": "https://localhost:8080/"
        },
        "id": "UncFdimYu6V6",
        "outputId": "c1495742-8afb-4f3b-8324-edcb366b01e1"
      },
      "outputs": [
        {
          "output_type": "stream",
          "name": "stdout",
          "text": [
            "1.6694862842559814\n"
          ]
        }
      ],
      "source": [
        "#speed test :\n",
        "#Python list:\n",
        "a = [i for i in range(10000000)]\n",
        "b = [i for i in range(10000000,20000000)]\n",
        "c = []\n",
        "import time\n",
        "start = time.time()\n",
        "for i in range(len(a)):\n",
        "  c.append(a[i]+b[i])\n",
        "print(time.time()-start)"
      ]
    },
    {
      "cell_type": "code",
      "source": [
        "#numpy :\n",
        "import numpy as np\n",
        "a = np.arange(10000000)\n",
        "b = np.arange(10000000,20000000)\n",
        "start = time.time()\n",
        "c = a+b\n",
        "print(time.time()-start)"
      ],
      "metadata": {
        "colab": {
          "base_uri": "https://localhost:8080/"
        },
        "id": "l8mXn9JNwK3G",
        "outputId": "41e9c428-197b-4e96-84f5-73a7f51d3a67"
      },
      "execution_count": null,
      "outputs": [
        {
          "output_type": "stream",
          "name": "stdout",
          "text": [
            "0.03456759452819824\n"
          ]
        }
      ]
    },
    {
      "cell_type": "code",
      "source": [
        "#memory :\n",
        "a = [i for i in range(10000000)]\n",
        "import sys\n",
        "sys.getsizeof(a)\n"
      ],
      "metadata": {
        "id": "QNRoT2VjwMy0"
      },
      "execution_count": null,
      "outputs": []
    },
    {
      "cell_type": "markdown",
      "source": [
        "# ***Advance Indexing :***"
      ],
      "metadata": {
        "id": "CR9HWTlT0N42"
      }
    },
    {
      "cell_type": "code",
      "source": [
        "#Normal Indexing and Slicing :\n",
        "import numpy as np\n",
        "a = np.arange(24).reshape(6,4)\n",
        "a"
      ],
      "metadata": {
        "id": "pIQTRyvmzgPT",
        "colab": {
          "base_uri": "https://localhost:8080/"
        },
        "outputId": "d7ac3848-e836-4d69-a51c-1396952225be"
      },
      "execution_count": null,
      "outputs": [
        {
          "output_type": "execute_result",
          "data": {
            "text/plain": [
              "array([[ 0,  1,  2,  3],\n",
              "       [ 4,  5,  6,  7],\n",
              "       [ 8,  9, 10, 11],\n",
              "       [12, 13, 14, 15],\n",
              "       [16, 17, 18, 19],\n",
              "       [20, 21, 22, 23]])"
            ]
          },
          "metadata": {},
          "execution_count": 13
        }
      ]
    },
    {
      "cell_type": "code",
      "source": [
        "a[1:3,1:3]"
      ],
      "metadata": {
        "colab": {
          "base_uri": "https://localhost:8080/"
        },
        "id": "ZqaNX8-602J2",
        "outputId": "02f04e46-e8e5-4026-c562-e8a5c063800d"
      },
      "execution_count": null,
      "outputs": [
        {
          "output_type": "execute_result",
          "data": {
            "text/plain": [
              "array([[4, 5],\n",
              "       [7, 8]])"
            ]
          },
          "metadata": {},
          "execution_count": 5
        }
      ]
    },
    {
      "cell_type": "code",
      "source": [
        "a[1,2]"
      ],
      "metadata": {
        "colab": {
          "base_uri": "https://localhost:8080/"
        },
        "id": "bYVyFxDc0wE1",
        "outputId": "4eb93fd2-d24a-4410-d832-9bbdfe7728bc"
      },
      "execution_count": null,
      "outputs": [
        {
          "output_type": "execute_result",
          "data": {
            "text/plain": [
              "np.int64(5)"
            ]
          },
          "metadata": {},
          "execution_count": 4
        }
      ]
    },
    {
      "cell_type": "code",
      "source": [
        "#Fancy Indexing :\n",
        "a\n",
        "a[[0,2,3,5]]\n",
        "a[:,[0,2,3]]"
      ],
      "metadata": {
        "id": "r43r4FxCwPND",
        "colab": {
          "base_uri": "https://localhost:8080/"
        },
        "outputId": "5a3ad5a0-be70-44cb-c064-b43d6ee3b102"
      },
      "execution_count": null,
      "outputs": [
        {
          "output_type": "execute_result",
          "data": {
            "text/plain": [
              "array([[ 0,  2,  3],\n",
              "       [ 4,  6,  7],\n",
              "       [ 8, 10, 11],\n",
              "       [12, 14, 15],\n",
              "       [16, 18, 19],\n",
              "       [20, 22, 23]])"
            ]
          },
          "metadata": {},
          "execution_count": 16
        }
      ]
    },
    {
      "cell_type": "code",
      "source": [
        "#Boolean Indexing :\n",
        "a = np.random.randint(1,100,24).reshape(6,4)\n",
        "a"
      ],
      "metadata": {
        "id": "PTE0lK3u0ald",
        "colab": {
          "base_uri": "https://localhost:8080/"
        },
        "outputId": "7a756018-c091-49b8-838f-944aaf087aaa"
      },
      "execution_count": 26,
      "outputs": [
        {
          "output_type": "execute_result",
          "data": {
            "text/plain": [
              "array([[70, 49, 90,  5],\n",
              "       [88, 67, 50, 90],\n",
              "       [66, 63, 39, 25],\n",
              "       [22, 16, 35, 51],\n",
              "       [74, 76, 95, 92],\n",
              "       [16, 61, 34, 89]])"
            ]
          },
          "metadata": {},
          "execution_count": 26
        }
      ]
    },
    {
      "cell_type": "code",
      "source": [
        "#Find all the no greater than 50 :\n",
        "a[a>50]"
      ],
      "metadata": {
        "colab": {
          "base_uri": "https://localhost:8080/"
        },
        "id": "rB98Qe5H38W2",
        "outputId": "a9f88317-080a-4114-825f-f8073202c96c"
      },
      "execution_count": 28,
      "outputs": [
        {
          "output_type": "execute_result",
          "data": {
            "text/plain": [
              "array([70, 90, 88, 67, 90, 66, 63, 51, 74, 76, 95, 92, 61, 89])"
            ]
          },
          "metadata": {},
          "execution_count": 28
        }
      ]
    },
    {
      "cell_type": "code",
      "source": [
        "#Find even Numbers :\n",
        "a[a%2==0]"
      ],
      "metadata": {
        "colab": {
          "base_uri": "https://localhost:8080/"
        },
        "id": "m_l1OsrU4_IY",
        "outputId": "fbe1b9e2-fa04-4954-8751-bd2b21371524"
      },
      "execution_count": 32,
      "outputs": [
        {
          "output_type": "execute_result",
          "data": {
            "text/plain": [
              "array([70, 90, 88, 50, 90, 66, 22, 16, 74, 76, 92, 16, 34])"
            ]
          },
          "metadata": {},
          "execution_count": 32
        }
      ]
    },
    {
      "cell_type": "code",
      "source": [
        "#Find all the numbers that are greater than 50 and are even :\n",
        "a[(a>50) & (a%2==0)]"
      ],
      "metadata": {
        "colab": {
          "base_uri": "https://localhost:8080/"
        },
        "id": "-Mt5r25e4eY4",
        "outputId": "985c9477-3ab5-404c-e92b-01d5d748a236"
      },
      "execution_count": 30,
      "outputs": [
        {
          "output_type": "execute_result",
          "data": {
            "text/plain": [
              "array([70, 90, 88, 90, 66, 74, 76, 92])"
            ]
          },
          "metadata": {},
          "execution_count": 30
        }
      ]
    },
    {
      "cell_type": "code",
      "source": [
        "#Find all no that are not divisible by 7:\n",
        "a[~(a%7==0)]"
      ],
      "metadata": {
        "colab": {
          "base_uri": "https://localhost:8080/"
        },
        "id": "3Dt5AS1C4xCo",
        "outputId": "0461b62f-2de3-4b02-c85f-f6a959200c8f"
      },
      "execution_count": 34,
      "outputs": [
        {
          "output_type": "execute_result",
          "data": {
            "text/plain": [
              "array([90,  5, 88, 67, 50, 90, 66, 39, 25, 22, 16, 51, 74, 76, 95, 92, 16,\n",
              "       61, 34, 89])"
            ]
          },
          "metadata": {},
          "execution_count": 34
        }
      ]
    },
    {
      "cell_type": "markdown",
      "source": [
        "# Broadcasting"
      ],
      "metadata": {
        "id": "pVicrLpW5dxB"
      }
    },
    {
      "cell_type": "markdown",
      "source": [
        "The term Broadcasting describes how NumPy treats arrays with different shapes during arithmetic operations.\n",
        "\n",
        "The smaller array is \"broadcast\" across the larger array so that they have compatible shapes"
      ],
      "metadata": {
        "id": "Suw4jSxA5hAJ"
      }
    },
    {
      "cell_type": "code",
      "source": [
        "#Same Shape :\n"
      ],
      "metadata": {
        "id": "B6Mku4AS6Yje"
      },
      "execution_count": null,
      "outputs": []
    },
    {
      "cell_type": "code",
      "source": [],
      "metadata": {
        "id": "a2erSMCv47O_"
      },
      "execution_count": null,
      "outputs": []
    }
  ]
}